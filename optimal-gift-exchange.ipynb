{
 "cells": [
  {
   "cell_type": "markdown",
   "metadata": {},
   "source": [
    "# Maximum Gift Exchange Chaos\n",
    "\n",
    "A model designed to explore the impact of different gift exchange rules (e.g. White Elephant, Green Grinch, etc.). The primary goal is to find the rules that lead to maximum chaos, as defined as maximum number of gift steals (possibly -- probably? -- within some time constraint)."
   ]
  },
  {
   "cell_type": "markdown",
   "metadata": {},
   "source": [
    "## Gift Exchange Model\n",
    "\n",
    "We can model a gift exchange as a game with an equal number of `G` `gifts` and `P` `players`. Players `value` each gift according to their personal preferences.\n",
    "\n",
    "    \n",
    "### Rule Variants\n",
    "Some gift exchange variants use slightly different rules. These variants can be mixed and matched.\n",
    "\n",
    "#### Additional end-game swapping\n",
    "This variant adds extra swaps at the end of the game after `p1` makes their swap. If `p1` does swap with another player's gift, that player becomes active and repeats step 4, and so on until the active player elects not to swap or there are no more eligible gifts.\n",
    "\n",
    "#### All gifts start unwrapped\n",
    "In this variant, all gifts in the pool are unwrapped. This means that, instead of players learning their preferences as gifts are opened, all players have complete information about their gift preferences throughout the entire game.\n",
    "\n",
    "#### Per-round stealing constraints\n",
    "- A gift can only be stolen `St` times per round, regardless of who is doing the stealing. In other words, once a gift is stolen within a given round, it is ineligble for the remainder of that round.\n",
    "- No more than `Sg` gifts can be stolen per round. Once `Sg` is reached, the round concludes and a new round begins by the next player becoming active in step 2.\n",
    "\n",
    "#### Per-player stealing constraints\n",
    "In this variant, there is also a cap on the number of times `Sp` each *player* can be stolen from. For example, once a given player `Sp_n` has been stolen from `Sp_n = Sp` times, the gift they hold at that point is now ineligible. \n",
    "\n",
    "#### No gift stealing constraint\n",
    "In this variant, there is no cap on the number of times a given gift can be stolen. In other words, `S = infinity`."
   ]
  },
  {
   "cell_type": "markdown",
   "metadata": {},
   "source": [
    "### Gift Values\n",
    "Players have personal preferences and value gifts accordingly. Each `player` has a (potentially) unique subjective `subj_value` for each `gift`. We can therefore model gift subjective value as a `G` by `P` matrix of values `subj_value_gp in range(100)`.\n",
    "\n",
    "But, if we allow for the notion that some gifts are objectively better than others (almost all gifts will be valued higher than a spray-painted tamborine, for example), we can model `subj_value` as normally distributed variance around a common `obj_value` level. "
   ]
  },
  {
   "cell_type": "code",
   "execution_count": 138,
   "metadata": {},
   "outputs": [],
   "source": [
    "import networkx as nx\n",
    "import numpy as np\n",
    "import math\n",
    "import pandas as pd\n",
    "import scipy.stats as stats"
   ]
  },
  {
   "cell_type": "markdown",
   "metadata": {},
   "source": [
    "## Inititial Conditions and Setup\n",
    "\n",
    "### First, we set some initial conditions for our model"
   ]
  },
  {
   "cell_type": "code",
   "execution_count": 151,
   "metadata": {},
   "outputs": [],
   "source": [
    "# game setup\n",
    "player_count = 10\n",
    "gift_count = player_count\n",
    "gift_value_scale = (0,1)\n",
    "gift_obj_value_distr = {'mean': .5, 'stdev': .2}\n",
    "gift_subj_value_stdev = .2\n",
    "\n",
    "# game rules\n",
    "gift_steals_max = 3\n",
    "player_steals_max = None\n",
    "single_swap = True\n",
    "\n",
    "# player strategies\n",
    "steal_threshold = .67"
   ]
  },
  {
   "cell_type": "markdown",
   "metadata": {},
   "source": [
    "### Next, we create a graph object to represent our model's state\n",
    "It holds `player_count` players and an equivalent number of gifts (`gift_count`). \n",
    "\n",
    "Each **gift** has the following attributes:\n",
    "- `type` = gift\n",
    "- `open`: a boolean marking whether the gift is open (`True`) or wrapped (`False`)\n",
    "- `owned`: a boolean marking whether the gift is owned or unowned; equivalent to `open` except in games where all gifts begin unwrapped\n",
    "- `steals`: a counter for the number of times the gift is stolen (including swaps)\n",
    "- `obj_value`: the gift's objective value, set randomly within the `gift_value_scale` based on the `gift_obj_value_distr` parameter\n",
    "- `stealable`: a boolean marking whether the gift can still be stolen\n",
    "\n",
    "Gifts are brought by a single player, which is modeled as a `brought` edge between the player and the gift. Similarly, gifts are owned by a single player and modeled as an `owns` edge between the player and their gift.\n",
    "\n",
    "Each **player** has the following attributes:\n",
    "- `type` = player\n",
    "- `steals`: a counter for the number of times the player has a gift *stolen from them*\n",
    "- `stealable`: a boolean marking whether the player can still be stolen *from*\n",
    "- `active`: a boolean marking whether it's this player's turn to open, steal, or swap a gift\n",
    "\n",
    "Players' subjective valuations (`subj_value`) of each gift are modeled as edges from the player to the gift. Subjective value for a given player&rightarrow;gift is set randomly around the gift's `obj_value` based on the `gift_subj_value_distr` parameter."
   ]
  },
  {
   "cell_type": "code",
   "execution_count": 49,
   "metadata": {},
   "outputs": [],
   "source": [
    "# helper function to sample one value from a truncated normal distribution\n",
    "def set_gift_value(scale, mean, stdev):\n",
    "    lower, upper = scale[0], scale[1]\n",
    "    #mean = distr['mean']\n",
    "    #stdev = distr['stdev']\n",
    "    return stats.truncnorm(\n",
    "        (lower - mean) / stdev,\n",
    "        (upper - mean) / stdev,\n",
    "        loc = mean,\n",
    "        scale = stdev)\n",
    "\n",
    "# set an objective value for a gift\n",
    "def set_gift_obj_value(scale, distr):\n",
    "    mean, stdev = distr['mean'], distr['stdev']\n",
    "    distr = set_gift_value(scale, mean, stdev)\n",
    "    return math.floor(distr.rvs(1))\n",
    "\n",
    "# set a subjective value for a gift around its objective value\n",
    "def set_gift_subj_value(scale, obj_value, stdev):\n",
    "    distr = set_gift_value(scale, obj_value, stdev)\n",
    "    return math.floor(distr.rvs(1))"
   ]
  },
  {
   "cell_type": "code",
   "execution_count": 97,
   "metadata": {},
   "outputs": [],
   "source": [
    "# initialize a directed graph (w/ support for multiple edges)\n",
    "# this will hold our players and gifts\n",
    "G = nx.MultiDiGraph()\n",
    "\n",
    "\n",
    "# add gifts as nodes, copying ids into a list\n",
    "gifts = []\n",
    "\n",
    "for g in range(gift_count):\n",
    "    gifts.append(g)\n",
    "    G.add_node(g)\n",
    "    G.nodes[g]['type'] = 'gift'\n",
    "    G.nodes[g]['open'] = False\n",
    "    G.nodes[g]['owned'] = False\n",
    "    G.nodes[g]['steals'] = 0 # number of times this gift has been stolen\n",
    "    G.nodes[g]['eligible'] = True # whether this gift can still be selected or stolen, i.e. if owned = False or steals < gift_steals_max\n",
    "    G.nodes[g]['obj_value'] = set_gift_obj_value(gift_value_scale, \n",
    "                                                 gift_obj_value_distr)"
   ]
  },
  {
   "cell_type": "code",
   "execution_count": 96,
   "metadata": {},
   "outputs": [
    {
     "name": "stdout",
     "output_type": "stream",
     "text": [
      "[0, 1, 2, 3, 4, 5, 6, 7, 8, 9]\n",
      "{0: False, 1: False, 2: False, 3: False, 4: False, 5: False, 6: False, 7: False, 8: False, 9: False}\n"
     ]
    }
   ],
   "source": [
    "print(gifts)\n",
    "print(nx.get_node_attributes(G, 'open'))"
   ]
  },
  {
   "cell_type": "code",
   "execution_count": 98,
   "metadata": {},
   "outputs": [],
   "source": [
    "# add players as nodes, copying ids into a list\n",
    "players = []\n",
    "\n",
    "for p in range(gift_count, gift_count + player_count):\n",
    "    players.append(p)\n",
    "    G.add_node(p)\n",
    "    G.nodes[p]['type'] = 'player'\n",
    "    G.nodes[p]['steals'] = 0 # number of times this player has been stolen *from*\n",
    "    G.nodes[p]['stealable'] = True # whether this player can still be stolen *from*, i.e. if steals < player_steals_max\n",
    "    G.nodes[p]['active'] = False # whether its this player's turn\n",
    "\n",
    "    \n",
    "    for g in gifts:\n",
    "        # add gift brought relationship as edges between player and the gift they brought\n",
    "        G.add_edge(p, g, brought = players.index(p) == gifts.index(g))\n",
    "\n",
    "        # add player p's subjective value for each gift, as edges from player to gift\n",
    "        G.add_edge(p, g, subj_value = set_gift_subj_value(gift_value_scale, \n",
    "                                                          G.nodes[g]['obj_value'], \n",
    "                                                          gift_subj_value_stdev))\n",
    "        \n",
    "        # add gift ownership edges between player and all gifts, initialized as False\n",
    "        G.add_edge(p, g, owns = False)"
   ]
  },
  {
   "cell_type": "code",
   "execution_count": 99,
   "metadata": {},
   "outputs": [
    {
     "name": "stdout",
     "output_type": "stream",
     "text": [
      "[10, 11, 12, 13, 14, 15, 16, 17, 18, 19]\n",
      "{(10, 0, 0): True, (10, 1, 0): False, (10, 2, 0): False, (10, 3, 0): False, (10, 4, 0): False, (10, 5, 0): False, (10, 6, 0): False, (10, 7, 0): False, (10, 8, 0): False, (10, 9, 0): False, (11, 0, 0): False, (11, 1, 0): True, (11, 2, 0): False, (11, 3, 0): False, (11, 4, 0): False, (11, 5, 0): False, (11, 6, 0): False, (11, 7, 0): False, (11, 8, 0): False, (11, 9, 0): False, (12, 0, 0): False, (12, 1, 0): False, (12, 2, 0): True, (12, 3, 0): False, (12, 4, 0): False, (12, 5, 0): False, (12, 6, 0): False, (12, 7, 0): False, (12, 8, 0): False, (12, 9, 0): False, (13, 0, 0): False, (13, 1, 0): False, (13, 2, 0): False, (13, 3, 0): True, (13, 4, 0): False, (13, 5, 0): False, (13, 6, 0): False, (13, 7, 0): False, (13, 8, 0): False, (13, 9, 0): False, (14, 0, 0): False, (14, 1, 0): False, (14, 2, 0): False, (14, 3, 0): False, (14, 4, 0): True, (14, 5, 0): False, (14, 6, 0): False, (14, 7, 0): False, (14, 8, 0): False, (14, 9, 0): False, (15, 0, 0): False, (15, 1, 0): False, (15, 2, 0): False, (15, 3, 0): False, (15, 4, 0): False, (15, 5, 0): True, (15, 6, 0): False, (15, 7, 0): False, (15, 8, 0): False, (15, 9, 0): False, (16, 0, 0): False, (16, 1, 0): False, (16, 2, 0): False, (16, 3, 0): False, (16, 4, 0): False, (16, 5, 0): False, (16, 6, 0): True, (16, 7, 0): False, (16, 8, 0): False, (16, 9, 0): False, (17, 0, 0): False, (17, 1, 0): False, (17, 2, 0): False, (17, 3, 0): False, (17, 4, 0): False, (17, 5, 0): False, (17, 6, 0): False, (17, 7, 0): True, (17, 8, 0): False, (17, 9, 0): False, (18, 0, 0): False, (18, 1, 0): False, (18, 2, 0): False, (18, 3, 0): False, (18, 4, 0): False, (18, 5, 0): False, (18, 6, 0): False, (18, 7, 0): False, (18, 8, 0): True, (18, 9, 0): False, (19, 0, 0): False, (19, 1, 0): False, (19, 2, 0): False, (19, 3, 0): False, (19, 4, 0): False, (19, 5, 0): False, (19, 6, 0): False, (19, 7, 0): False, (19, 8, 0): False, (19, 9, 0): True}\n"
     ]
    }
   ],
   "source": [
    "print(players)\n",
    "print(nx.get_edge_attributes(G, 'brought'))"
   ]
  },
  {
   "cell_type": "markdown",
   "metadata": {},
   "source": [
    "## Policies\n",
    "\n",
    "### Game Rules and Logic\n",
    "\n",
    "#### Basic Rules\n",
    "Each player brings one gift to the game and leaves with a (typically) different gift.\n",
    "\n",
    "The game begins with all gifts wrapped, i.e. each player knows the content of only the gift they brought and none other.\n",
    "\n",
    "A player order is determined (by some arbitrary method, e.g. random).\n",
    "\n",
    "1. The first player `p1` selects one of the gifts from the set of unwrapped gifts and opens it.\n",
    "2. The next player `p2` is now active, and has the option to either:\n",
    "    1. Open a gift from the pool, leading to a repeat of step 2 with `p3` active\n",
    "    2. Steal an eligible open gift, leading to a repeat of step 2 with `p1` active\n",
    "3. Repeat step 2 until all gifts have been opened (i.e. there are no gifts remaining in the pool).\n",
    "4. `p1` is now active again and has the option to (forcibly) swap with another player for their eligible gift. The game ends once `p1` has swapped or decided to not swap.\n",
    "\n",
    "A new **round** begins when a new gift is opened from the pool.\n",
    "\n",
    "##### Stealing\n",
    "- Each gift can only be stolen up to `S` times, including swaps. A given gift `G_n` is eligible for stealing (or swapping) while `S_n < S`. For example, when `S = 3`, each gift can only be stolen 3 times. After that, the gift is no longer eligible and no player may steal it or swap for it; a player holding an ineligible gift will leave the game with that gift.\n",
    "- Within a given round, gifts cannot be stolen back by the player who began the turn holding that gift.\n",
    "\n",
    "    1. If they do not swap, the game ends.\n",
    "    2. If they do swap with another player, step 4 repeats with that swapped player active"
   ]
  },
  {
   "cell_type": "code",
   "execution_count": 142,
   "metadata": {},
   "outputs": [],
   "source": []
  },
  {
   "cell_type": "markdown",
   "metadata": {},
   "source": [
    "### Player Strategies\n",
    "\n",
    "1. Steal second most valuable open gift\n",
    "2. Steal most valuable open gift\n",
    "3. Steal open gift if `subj_value` is greater than...\n",
    "    1. Average of `subj_values` of the opened gifts\n",
    "    2. The maximum `subj_values` of the opened gifts\n",
    "    3. An arbitrary threshold, e.g. 80\n",
    "4. Steal an open gift if about to become unstealable\n",
    "\n",
    "Possible strategies (from https://github.com/BenCasselman/YankeeSwap):\n",
    "1. Player steals with probability p = (number of gifts taken) / N (naive)\n",
    "2. Player always steals most valuable gift available\n",
    "3. Player always steals second-most-valuable gift available (if only one gift is available, player steals that one)\n",
    "4. Player never steals\n",
    "5. Player steals if any stealable gift has value (to them) greater than estimated underlying value of average gift\n",
    "6. Player steals about-to-be unstealable gift if one available greater than estimated underlying value of avg gift\n",
    "7. Same as #5 but factor in knowledge of gift player brought.\n",
    "8. Ghosh-Mahdian: Player steals if best available gift has value > theta\n",
    "\n",
    "\n",
    "To keep things simple at first, we'll use a single strategy for all players: \n",
    "- steal the highest `subj_value` open gift if `subj_value` >= 0.67"
   ]
  },
  {
   "cell_type": "code",
   "execution_count": 154,
   "metadata": {},
   "outputs": [],
   "source": [
    "# helper functions\n",
    "\n",
    "# get all gift nodes\n",
    "def get_gift_nodes(network):\n",
    "    # gifts = extract nodes with type == gift\n",
    "    # return gifts\n",
    "    pass\n",
    "\n",
    "# get IDs for open gifts that are either unowned or stealable\n",
    "def get_eligible_open_giftIDs():\n",
    "    # find gifts that are open and eligible and not owned by stealable==False players\n",
    "    # return gifts\n",
    "    pass\n",
    "\n",
    "def get_brought_gift_for(playerID):\n",
    "    # find gift for which playerID --> gift brought edge == True\n",
    "    # return gift\n",
    "    pass\n",
    "\n",
    "def get_owned_gift_for(playerID):\n",
    "    # find gift for which playerID --> gift owns edge == True\n",
    "    # return gift\n",
    "    pass\n",
    "\n",
    "def get_eligible_known_gifts_for(playerID):\n",
    "    \n",
    "    # brought_gift = get_brought_gift_for(player)\n",
    "    \n",
    "    # eligible_open_gifts = get_eligible_open_giftIDs()\n",
    "    \n",
    "    # if brought_gift not in eligible_open_gifts:\n",
    "        # eligible_known_gifts = eligible_open_gifts.append(brought_gift) \n",
    "        \n",
    "    # else: \n",
    "        # eligible_known_gifts = eligible_open_gifts\n",
    "        \n",
    "    # return eligible_known_gifts\n",
    "    pass\n",
    "    \n",
    "def get_subj_gift_values(playerID, giftIDs):\n",
    "    # get player subjective gift values for each gift in giftIDs\n",
    "    # return dictionary with giftIDs and subjective values\n",
    "    pass\n",
    "    \n",
    "def sorted_subj_gift_values(playerID, giftIDs): # returns a list of tuples\n",
    "    # unsorted = get_subj_gift_values(playerID, giftIDs)\n",
    "    # sorted = sorted((key, value) for (key, value) in unsorted.items())\n",
    "    # return sorted\n",
    "    pass\n",
    "    \n",
    "def get_unowned_gifts():\n",
    "    # find all unowned giftsIDs\n",
    "    pass\n",
    "\n",
    "def strategy_steal_if_above_threshold(player, steal_threshold):\n",
    "    # eligible_known_gift_values = sorted_subj_gift_values(get_eligible_known_gifts_for(player))\n",
    "    \n",
    "    # best_eligible_known_gift = eligible_known_gift_values[0][0]\n",
    "    # best_eligible_known_gift_value = eligible_known_gift_values[0][1]\n",
    "    \n",
    "    # if best_eligible_known_gift is in get_unowned_gifts():\n",
    "        # gift_intention = (open_gift, best_eligible_known_gift)\n",
    "        \n",
    "    # elif best_eligible_known_gift_value >= steal_threshold:\n",
    "        # gift_intention = (steal_gift, best_eligible_known_gift)\n",
    "        \n",
    "    # else: #i.e. if best_eligible_known_gift is owned and under steal_threshold\n",
    "        # random_gift = select an unowned gift at random\n",
    "        # gift_intention = (open_gift, random_gift)\n",
    "    \n",
    "    pass\n",
    "\n",
    "def strategy_swap_gifts(player):\n",
    "    # swap owned gift for gift with highest subjective value\n",
    "    \n",
    "    # owned_gift = \n",
    "    \n",
    "    # other_gifts = \n",
    "    \n",
    "    # best_other_gift = sorted_subj_gift_values(player, other_gifts)[0][1]\n",
    "    \n",
    "    # gift_intention = (swap_gifts, best_other_gift)\n",
    "    \n",
    "    pass"
   ]
  },
  {
   "cell_type": "markdown",
   "metadata": {},
   "source": [
    "## State Update Functions"
   ]
  },
  {
   "cell_type": "code",
   "execution_count": 146,
   "metadata": {},
   "outputs": [],
   "source": [
    "# player actions\n",
    "\n",
    "def open_gift(active_player, gift): \n",
    "    # if gift is wrapped:\n",
    "    \n",
    "        # change gift's open attribute to True\n",
    "\n",
    "        # change active_player --> gift owns edge to True\n",
    "        \n",
    "        # change active_player active attribute to False\n",
    "        \n",
    "        # change players.index(active_player + 1) active attribute to True\n",
    "        \n",
    "    # else:\n",
    "        # throw error\n",
    "    \n",
    "    pass\n",
    "\n",
    "\n",
    "def steal_gift(active_player, gift):\n",
    "    # if gift is open and stealable and owner player is stealable:\n",
    "        \n",
    "        # increment owner player steals attribute\n",
    "        \n",
    "        # if owner player steals attribute >= player_steals_max:\n",
    "            # set owner player stealable attribute to False\n",
    "            \n",
    "        # change previous owner player --> gift owns edge to False\n",
    "        \n",
    "        # change active_player --> gift owns edge to True\n",
    "        \n",
    "        # increment gift steals attribute\n",
    "        \n",
    "        # if gift steals attribute >= gift_steals_max:\n",
    "            # set gift stealable attribute to False\n",
    "            \n",
    "        # change active_player active attribute to False\n",
    "            \n",
    "        # change previous owner player active attribue to True\n",
    "            \n",
    "    # else:\n",
    "        # throw error\n",
    "        \n",
    "    pass\n",
    "\n",
    "def swap_gifts(active_player, target_gift, single_swap):\n",
    "    # if gift is open and stealable and owner player is stealable:\n",
    "    \n",
    "        # increment owner player steals attribute\n",
    "        \n",
    "        # if owner player steals attribuet >= player_steals_max:\n",
    "            # set owner player stealable attribute to False\n",
    "            \n",
    "        # change previous owner player --> target_gift owns edge to False\n",
    "        \n",
    "        # change active_player --> target_gift owns edge to True\n",
    "        \n",
    "        # active_player_gift = active_player's current gift\n",
    "        \n",
    "        # change previous owner player --> active_player_gift owns edge to True\n",
    "        \n",
    "        # change active_owner --> active_player_gift owns edge to False\n",
    "        \n",
    "        # increment gift steals attribute\n",
    "        \n",
    "        # if gift steals attribute >= gift_steals_max:\n",
    "            # set gift stealable attribute to False\n",
    "            \n",
    "        # change active_player active attribute to False\n",
    "            \n",
    "        # if single_swap = False:\n",
    "            # change previous owner player active attribute to True\n",
    "            \n",
    "    # else:\n",
    "        # throw error\n",
    "            \n",
    "    pass\n",
    "\n"
   ]
  },
  {
   "cell_type": "markdown",
   "metadata": {},
   "source": []
  },
  {
   "cell_type": "code",
   "execution_count": 145,
   "metadata": {},
   "outputs": [
    {
     "name": "stdout",
     "output_type": "stream",
     "text": [
      "Variable                Type            Data/Info\n",
      "-------------------------------------------------\n",
      "G                       MultiDiGraph    \n",
      "df                      DataFrame             DAYSTAMP  VALUE  ye<...>n\\n[358 rows x 3 columns]\n",
      "g                       int             9\n",
      "gift_count              int             10\n",
      "gift_obj_value_distr    dict            n=2\n",
      "gift_obj_value_range    tuple           n=2\n",
      "gift_steals_max         int             3\n",
      "gift_subj_value_stdev   int             20\n",
      "gift_value_scale        tuple           n=2\n",
      "gifts                   list            n=10\n",
      "math                    module          <module 'math' from '/Lib<...>th.cpython-38-darwin.so'>\n",
      "np                      module          <module 'numpy' from '/Li<...>kages/numpy/__init__.py'>\n",
      "nx                      module          <module 'networkx' from '<...>es/networkx/__init__.py'>\n",
      "open_gift               function        <function open_gift at 0x12aa92d30>\n",
      "p                       int             19\n",
      "pd                      module          <module 'pandas' from '/L<...>ages/pandas/__init__.py'>\n",
      "player_count            int             10\n",
      "player_steals_max       NoneType        None\n",
      "players                 list            n=10\n",
      "set_gift_obj_value      function        <function set_gift_obj_value at 0x12a7f1c10>\n",
      "set_gift_subj_value     function        <function set_gift_subj_value at 0x11004a0d0>\n",
      "set_gift_value          function        <function set_gift_value at 0x12a7f7f70>\n",
      "stats                   module          <module 'scipy.stats' fro<...>scipy/stats/__init__.py'>\n",
      "steal_gift              function        <function steal_gift at 0x12aa92940>\n",
      "swap_gift               function        <function swap_gift at 0x12aa92c10>\n"
     ]
    }
   ],
   "source": [
    "whos"
   ]
  },
  {
   "cell_type": "code",
   "execution_count": 150,
   "metadata": {},
   "outputs": [
    {
     "name": "stdout",
     "output_type": "stream",
     "text": [
      "{1, 2, 3, 4, 5}\n",
      "{1, 2, 3, 4, 5}\n"
     ]
    }
   ],
   "source": [
    "myset = {1, 2, 3, 4, 5}\n",
    "print(myset)\n",
    "\n",
    "myset.add(5)\n",
    "print(myset)"
   ]
  },
  {
   "cell_type": "code",
   "execution_count": 153,
   "metadata": {},
   "outputs": [
    {
     "data": {
      "text/plain": [
       "27"
      ]
     },
     "execution_count": 153,
     "metadata": {},
     "output_type": "execute_result"
    }
   ],
   "source": [
    "mylist = [(5, 27), (3, 13)]\n",
    "mylist[0][1]"
   ]
  },
  {
   "cell_type": "code",
   "execution_count": null,
   "metadata": {},
   "outputs": [],
   "source": []
  }
 ],
 "metadata": {
  "kernelspec": {
   "display_name": "Python 3",
   "language": "python",
   "name": "python3"
  },
  "language_info": {
   "codemirror_mode": {
    "name": "ipython",
    "version": 3
   },
   "file_extension": ".py",
   "mimetype": "text/x-python",
   "name": "python",
   "nbconvert_exporter": "python",
   "pygments_lexer": "ipython3",
   "version": "3.8.1"
  }
 },
 "nbformat": 4,
 "nbformat_minor": 2
}
